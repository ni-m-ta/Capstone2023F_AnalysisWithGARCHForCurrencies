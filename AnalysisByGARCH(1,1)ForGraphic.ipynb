{
 "cells": [
  {
   "cell_type": "code",
   "execution_count": null,
   "metadata": {},
   "outputs": [],
   "source": [
    "import numpy as np\n",
    "import pandas as pd\n",
    "import datetime as dt\n",
    "\n",
    "import seaborn as se\n",
    "from arch import arch_model\n",
    "import matplotlib.pyplot as plt\n",
    "\n",
    "# Format graphics\n",
    "se.set_style(\"darkgrid\")\n",
    "plt.rc(\"figure\", figsize=(15, 5))\n",
    "plt.rc(\"savefig\", dpi=90)\n",
    "plt.rc(\"font\", family=\"sans-serif\")\n",
    "plt.rc(\"font\", size=13)\n",
    "\n",
    "# Load the CSV file\n",
    "currency = input()\n",
    "file_path = f\"./PriceHistories/{currency}_USD.csv\"\n",
    "data = pd.read_csv(file_path, parse_dates=True, index_col='Date')\n",
    "\n",
    "# Extract the log returns\n",
    "returns = np.log(data['Adj Close'] / data['Adj Close'].shift(1)).dropna()\n",
    "\n",
    "# Fit GARCH(1,1) model\n",
    "model = arch_model(returns*10, vol='Garch', p=1, q=1)\n",
    "results = model.fit()\n",
    "\n",
    "# Plot the volatility\n",
    "results.plot(annualize='D')"
   ]
  }
 ],
 "metadata": {
  "kernelspec": {
   "display_name": "Python 3.10.4 64-bit ('3.10.4')",
   "language": "python",
   "name": "python3"
  },
  "language_info": {
   "codemirror_mode": {
    "name": "ipython",
    "version": 3
   },
   "file_extension": ".py",
   "mimetype": "text/x-python",
   "name": "python",
   "nbconvert_exporter": "python",
   "pygments_lexer": "ipython3",
   "version": "3.10.4"
  },
  "orig_nbformat": 4,
  "vscode": {
   "interpreter": {
    "hash": "7513e5c465f540104a5e397ed5637f157b3d4b7d06ce171057c08521d96a05a0"
   }
  }
 },
 "nbformat": 4,
 "nbformat_minor": 2
}
